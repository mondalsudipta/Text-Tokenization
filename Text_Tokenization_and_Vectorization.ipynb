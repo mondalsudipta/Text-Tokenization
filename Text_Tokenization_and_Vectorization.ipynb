{
  "nbformat": 4,
  "nbformat_minor": 0,
  "metadata": {
    "colab": {
      "provenance": [],
      "authorship_tag": "ABX9TyOVdx4ZBmRaufLzuPd0LbwG",
      "include_colab_link": true
    },
    "kernelspec": {
      "name": "python3",
      "display_name": "Python 3"
    },
    "language_info": {
      "name": "python"
    }
  },
  "cells": [
    {
      "cell_type": "markdown",
      "metadata": {
        "id": "view-in-github",
        "colab_type": "text"
      },
      "source": [
        "<a href=\"https://colab.research.google.com/github/mondalsudipta/Text-Tokenization/blob/main/Text_Tokenization_and_Vectorization.ipynb\" target=\"_parent\"><img src=\"https://colab.research.google.com/assets/colab-badge.svg\" alt=\"Open In Colab\"/></a>"
      ]
    },
    {
      "cell_type": "code",
      "execution_count": null,
      "metadata": {
        "colab": {
          "base_uri": "https://localhost:8080/"
        },
        "id": "DA8vF8iuqKQ8",
        "outputId": "f7e14e81-5f3c-4338-ee96-c575066c2782"
      },
      "outputs": [
        {
          "output_type": "stream",
          "name": "stdout",
          "text": [
            "Collecting banglanltk\n",
            "  Downloading banglanltk-0.0.4-py3-none-any.whl (462 kB)\n",
            "\u001b[2K     \u001b[90m━━━━━━━━━━━━━━━━━━━━━━━━━━━━━━━━━━━━━━━\u001b[0m \u001b[32m462.3/462.3 kB\u001b[0m \u001b[31m3.4 MB/s\u001b[0m eta \u001b[36m0:00:00\u001b[0m\n",
            "\u001b[?25hInstalling collected packages: banglanltk\n",
            "Successfully installed banglanltk-0.0.4\n"
          ]
        }
      ],
      "source": [
        "pip install banglanltk"
      ]
    },
    {
      "cell_type": "code",
      "source": [
        "#cleaning text"
      ],
      "metadata": {
        "id": "k2L-4RTGq2yS"
      },
      "execution_count": null,
      "outputs": []
    },
    {
      "cell_type": "code",
      "source": [
        "import banglanltk as bn\n",
        "s = 'আজ আকাশ পরিষ্কার!!! মনে হয় আজ আর বৃষ্টি হবে না .........!'\n",
        "\n",
        "print(bn.clean_text(s))"
      ],
      "metadata": {
        "colab": {
          "base_uri": "https://localhost:8080/"
        },
        "id": "iKrnX8VhrANx",
        "outputId": "8d2034f6-df91-4f1a-fc6a-ed6feb46ee0f"
      },
      "execution_count": null,
      "outputs": [
        {
          "output_type": "stream",
          "name": "stdout",
          "text": [
            "আজ আকাশ পরিষ্কার মনে হয় আজ আর বৃষ্টি হবে না\n"
          ]
        }
      ]
    },
    {
      "cell_type": "code",
      "source": [
        "#Word Tokenization"
      ],
      "metadata": {
        "id": "rd3GWZ8grDVJ"
      },
      "execution_count": null,
      "outputs": []
    },
    {
      "cell_type": "code",
      "source": [
        "import banglanltk as bn\n",
        "\n",
        "s = 'প্রাচীন কালে মানুষ একসময় সংখ্যা বুঝানোর জন্য ঝিনুক, নুড়ি, দড়ির গিট ইত্যাদি ব্যবহার করত।'\n",
        "print(bn.word_tokenize(s))"
      ],
      "metadata": {
        "colab": {
          "base_uri": "https://localhost:8080/"
        },
        "id": "AUDfG2b0rKTx",
        "outputId": "aaddba7a-eed3-4f34-851c-5ae2a0231dbb"
      },
      "execution_count": null,
      "outputs": [
        {
          "output_type": "stream",
          "name": "stdout",
          "text": [
            "['প্রাচীন', 'কালে', 'মানুষ', 'একসময়', 'সংখ্যা', 'বুঝানোর', 'জন্য', 'ঝিনুক', 'নুড়ি', 'দড়ির', 'গিট', 'ইত্যাদি', 'ব্যবহার', 'করত']\n"
          ]
        }
      ]
    },
    {
      "cell_type": "code",
      "source": [
        "# Sentence Tokenization\n",
        "\n",
        "import banglanltk as bn\n",
        "\n",
        "s = ''' কম্পিউটার শব্দটি গ্রিক \"কম্পিউট\" শব্দ থেকে এসেছে। Compute শব্দের অর্থ গণনা করা। আর কম্পিউটার শব্দের অর্থ গণনাকারী যন্ত্র। '''\n",
        "print(bn.sent_tokenize(s))"
      ],
      "metadata": {
        "colab": {
          "base_uri": "https://localhost:8080/"
        },
        "id": "BKqi0DSIrMMZ",
        "outputId": "94298731-04d9-43c6-a204-f6d92e35c8f0"
      },
      "execution_count": null,
      "outputs": [
        {
          "output_type": "stream",
          "name": "stdout",
          "text": [
            "['কম্পিউটার শব্দটি গ্রিক কম্পিউট শব্দ থেকে এসেছে', 'Compute শব্দের অর্থ গণনা করা', 'আর কম্পিউটার শব্দের অর্থ গণনাকারী যন্ত্র']\n"
          ]
        }
      ]
    },
    {
      "cell_type": "code",
      "source": [
        "# Stemming\n",
        "\n",
        "import banglanltk as bn\n",
        "\n",
        "# For single word\n",
        "print(bn.stemmer('শান্তিনিকেতনে'))\n",
        "\n",
        "# For multiple words\n",
        "text = 'আজ বৃষ্টি হবে।'\n",
        "words = bn.word_tokenize(text)\n",
        "for w in words:\n",
        "    print(bn.stemmer(w))"
      ],
      "metadata": {
        "colab": {
          "base_uri": "https://localhost:8080/"
        },
        "id": "repLSAEhrScB",
        "outputId": "ea6f04d6-f488-4fed-beb9-4e730d7fc69a"
      },
      "execution_count": null,
      "outputs": [
        {
          "output_type": "stream",
          "name": "stdout",
          "text": [
            "শান্তিনিকেতন\n",
            "আজ\n",
            "বৃষ্টি\n",
            "হব\n"
          ]
        }
      ]
    },
    {
      "cell_type": "code",
      "source": [
        "# Synonym\n",
        "\n",
        "import banglanltk as bn\n",
        "\n",
        "print(bn.synonym('হাত'))"
      ],
      "metadata": {
        "colab": {
          "base_uri": "https://localhost:8080/"
        },
        "id": "5uuY7TKtraPC",
        "outputId": "0c50d12b-91c7-40df-c9b8-c757ff407260"
      },
      "execution_count": null,
      "outputs": [
        {
          "output_type": "stream",
          "name": "stdout",
          "text": [
            "['কর', 'শুঁড়', 'শুণ্ড', 'শুণ্ডিকা', 'সারঙ্গ', 'হস্ত', 'হাত']\n"
          ]
        }
      ]
    },
    {
      "cell_type": "code",
      "source": [
        "# POS Tagging\n",
        "\n",
        "import banglanltk as bn\n",
        "\n",
        "# For single word\n",
        "print(bn.pos_tag('কম্পিউটার'))\n",
        "\n",
        "# For multiple words\n",
        "text = 'আজ বৃষ্টি হবে।'\n",
        "words = bn.word_tokenize(text)\n",
        "for w in words:\n",
        "    print(bn.pos_tag(w))"
      ],
      "metadata": {
        "colab": {
          "base_uri": "https://localhost:8080/"
        },
        "id": "zhUxaGD1rfXg",
        "outputId": "b8d96ec9-9b64-4300-b457-769fa0e38fef"
      },
      "execution_count": null,
      "outputs": [
        {
          "output_type": "stream",
          "name": "stdout",
          "text": [
            "NN\n",
            "NN\n",
            "NN\n",
            "VB\n"
          ]
        }
      ]
    },
    {
      "cell_type": "code",
      "source": [],
      "metadata": {
        "id": "7R2ZizZJrnjZ"
      },
      "execution_count": null,
      "outputs": []
    }
  ]
}